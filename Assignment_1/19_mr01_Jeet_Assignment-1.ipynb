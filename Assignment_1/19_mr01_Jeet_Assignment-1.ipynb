{
 "cells": [
  {
   "cell_type": "markdown",
   "metadata": {},
   "source": [
    "# Assignment 1: Transformations\n",
    "\n",
    "\n",
    "TEAM-ID: 19 <br>\n",
    "TEAM-NAME: mr01  \n",
    "YOUR-ID: 2019701006  \n",
    "YOUR-NAME: Jeet Vora    \n",
    "\n",
    "(Although you work in groups, both the students have to submit to Moodle, hence there's name field above)"
   ]
  },
  {
   "cell_type": "markdown",
   "metadata": {},
   "source": [
    "# Instructions\n",
    "- Please check Moodle for \"TEAM-ID\" and \"TEAM-NAME\" fields above. Some of your names have been edited because of redundancy/simplicity. Instructions for submitting the assignment through GitHub Classrooms/Moodle has been uploaded on Moodle. Any clarifications will be made there itself.\n",
    "- Code must be written in Python in Jupyter Notebooks. We highly recommend using anaconda distribution or at the minimum, virtual environments for this assignment. See `./misc/installation` for detailed step-by-step instructions about the installation setup.\n",
    "- Both the team members must submit the zip file.\n",
    "- For this assignment, you will be using Open3D extensively. Refer to [Open3D Documentation](http://www.open3d.org/docs/release/): you can use the in-built methods and **unless explicitly mentioned**, don't need to code from scratch for this assignment. Make sure your code is modular since you will be reusing them for future assignments.\n",
    "- Take a look at the entire assignment. The descriptive questions at the end might have a clue if you are stuck somewhere.\n",
    "- Answer the descriptive questions in your own words with context & clarity. Do not just copy-paste from some Wikipedia page. You will be evaluated accordingly.\n",
    "- Please call the visualization functions only when they are asked. They are asked explicitly at the end of every section.\n",
    "- You could split the Jupyter Notebook cells where `TODO` is written, but please try to avoid splitting/changing the structure of other cells."
   ]
  },
  {
   "cell_type": "code",
   "execution_count": 33,
   "metadata": {},
   "outputs": [],
   "source": [
    "import open3d as o3d\n",
    "import copy\n",
    "import numpy as np\n",
    "from scipy.linalg import logm\n",
    "from scipy.spatial.transform import Rotation as R\n",
    "from scipy.optimize import fsolve\n",
    "import math\n",
    "import time\n",
    "import warnings\n",
    "warnings.filterwarnings('ignore')\n",
    "from scipy.linalg import logm"
   ]
  },
  {
   "cell_type": "markdown",
   "metadata": {},
   "source": [
    "# 1. Getting started with Open3D\n",
    "## 1.1 Converting RGBD image into Point Cloud\n",
    "\n",
    "\n",
    "In your robotics journey, it is common to be given just the depth images along with camera parameters in a generic dataset and you'd want to build a 3D data representation out of it, for example, a point cloud. You will understand the math behind these concepts in detail during Vision classes, for now, you can use the in-built functions as a black box.\n",
    "- Below are the given RGB and D images from SUN RGB-D dataset ([S.Song, CVPR 2015](https://rgbd.cs.princeton.edu/)). \n",
    "![low-res-RGBD.resized.png](./misc/low-res-RGBD.png)\n",
    "\n",
    "- Read these two images `color.jpg` and `depth.png` given in current folder using Open3D. Convert it to a point cloud using the default camera parameters (`o3d.camera.PinholeCameraIntrinsicParameters.PrimeSenseDefault`).\n",
    "Then,\n",
    "- Create a \"world\" frame $A$ and combine this (just use $+$ operator) with the above point cloud and save it as `scene.pcd`. Put it aside for now.\n",
    "- Write a simple function `one_one` to visualize `scene.pcd`."
   ]
  },
  {
   "cell_type": "code",
   "execution_count": 34,
   "metadata": {},
   "outputs": [
    {
     "data": {
      "text/plain": [
       "True"
      ]
     },
     "execution_count": 34,
     "metadata": {},
     "output_type": "execute_result"
    }
   ],
   "source": [
    "##############################################################################\n",
    "# TODO: Do tasks described in 1.1                                            #\n",
    "##############################################################################\n",
    "# Replace \"pass\" statement with your code\n",
    "color_raw = o3d.io.read_image(\"color.jpg\")\n",
    "depth_raw = o3d.io.read_image(\"depth.png\")\n",
    "#rgbd_image = o3d.geometry.RGBDImage.create_from_color_and_depth(color_raw, depth_raw, convert_rgb_to_intensity = False, depth_scale=100000.0, depth_trunc=1.0)\n",
    "rgbd_image = o3d.geometry.RGBDImage.create_from_sun_format(color_raw, depth_raw, convert_rgb_to_intensity = False)\n",
    "pcd = o3d.geometry.PointCloud.create_from_rgbd_image(rgbd_image,o3d.camera.PinholeCameraIntrinsic(o3d.camera.PinholeCameraIntrinsicParameters.PrimeSenseDefault))\n",
    "pcd.transform([[1, 0, 0, 0], [0, -1, 0, 0], [0, 0, -1, 0], [0, 0, 0, 1]])\n",
    "\n",
    "#Creating world frame\n",
    "center = pcd.get_center()\n",
    "mesh_frame = o3d.geometry.TriangleMesh.create_coordinate_frame(size=0.4, origin=-1*center)\n",
    "\n",
    "#combine world frame with point cloud of depth image\n",
    "pcdworld_mesh=mesh_frame.sample_points_poisson_disk(number_of_points=500, init_factor=5)\n",
    "pcd_combined = pcdworld_mesh+pcd\n",
    "o3d.io.write_point_cloud(\"scene.pcd\",pcdworld_mesh+pcd)\n",
    "##############################################################################\n",
    "#                             END OF YOUR CODE                               #\n",
    "##############################################################################"
   ]
  },
  {
   "cell_type": "markdown",
   "metadata": {},
   "source": [
    "### Question for 1.1\n",
    "\n",
    "- In the next code cell, call the function `one_one` here showing `scene.pcd`."
   ]
  },
  {
   "cell_type": "code",
   "execution_count": 35,
   "metadata": {},
   "outputs": [],
   "source": [
    "#uncomment the following and add input parameters if any\n",
    "def one_one(pcd): \n",
    "    o3d.visualization.draw_geometries([pcd])\n",
    "    \n",
    "one_one(o3d.io.read_point_cloud(\"scene.pcd\")) "
   ]
  },
  {
   "cell_type": "markdown",
   "metadata": {},
   "source": [
    "# 2. Rotations, Euler angles and Gimbal Lock\n",
    "\n",
    "## 2.1 Rotating an object\n",
    "\n",
    "The objective here is to roughly simulate an object moving on a ground.\n",
    "\n",
    "- Generate a cube at some point on the ground and create another frame $B$ at the center of this object. Combine these both as a single point cloud `cube.pcd`. (You can pick a point on the ground by using the `get_picked_points` method of the class `open3d.visualization.VisualizerWithEditing`.)\n",
    "- Now read both the point clouds `scene.pcd` and `cube.pcd` in a script. Whatever tasks you do below are on the object `cube.pcd` (along with the axes $B$) with `scene.pcd` in the background (static).\n",
    "- Given a sequence of **ZYX Euler** angles $[30^{\\circ}, 90^{\\circ}, 45^{\\circ}]$, generate the rotation. In our case, our object (with its respective axis) undergoes rotation with the background being fixed (with its respective axis).\n",
    "- Note: Throughout this assignment, we will be using the standard **ZYX** Euler angle convention.\n",
    "- Write a function `two_one` to show the above by **animation** (cube rotating along each axis one by one).\n",
    "    - *Hint: Use Open3D's non-blocking visualization and discretize the rotation to simulate the animation. For example, if you want to rotate by $30^{\\circ}$ around a particular axis, do in increments of $5^{\\circ}$ 6 times to make it look like an animation.*"
   ]
  },
  {
   "cell_type": "code",
   "execution_count": 36,
   "metadata": {},
   "outputs": [],
   "source": [
    "##############################################################################\n",
    "# TODO: Do tasks described in 2.1                                            #\n",
    "##############################################################################\n",
    "# Replace \"pass\" statement with your code\n",
    "def get_cube():\n",
    "    mesh_cube = o3d.geometry.TriangleMesh.create_box(width=0.2, height=0.2, depth=0.2)\n",
    "    mesh_cube.compute_vertex_normals()\n",
    "    mesh_cube = copy.deepcopy(mesh_cube).translate((-0.28, -0.61, -3.5), relative=False)\n",
    "    center=mesh_cube.get_center()\n",
    "    mesh_frame = o3d.geometry.TriangleMesh.create_coordinate_frame(size=0.4, origin= -1*(center))\n",
    "    pcd_cube = mesh_cube.sample_points_poisson_disk(number_of_points=1000, init_factor=5)\n",
    "    pcd_frame = mesh_frame.sample_points_poisson_disk(number_of_points=200, init_factor=5)\n",
    "    o3d.io.write_point_cloud(\"cube.pcd\",pcd_frame+pcd_cube)\n",
    "    return center\n",
    "    \n",
    "def rotFromEuler_combine(a,b,c):\n",
    "    Rotfromeuler_combined = np.array([[math.cos(a)*math.cos(b) , math.cos(a)*math.sin(b)*math.sin(c) - math.sin(a)*math.cos(c) , math.cos(a)*math.sin(b)*math.cos(c) + math.sin(a)*math.sin(c) ],\n",
    "                              [math.sin(a)*math.cos(b) , math.sin(a)*math.sin(b)*math.sin(c) + math.cos(a)*math.cos(c) ,  math.sin(a)*math.sin(b)*math.cos(c) - math.cos(a)*math.sin(c)],\n",
    "                              [-math.sin(b) , math.cos(b)*math.sin(c) ,  math.cos(b)*math.cos(c) ]])\n",
    "    return Rotfromeuler_combined\n",
    "\n",
    "def get_rotation_matrix(deg, frame, z, y, x):\n",
    "    negz, negy, negx = 1,1,1\n",
    "    if deg == z:\n",
    "        if(z<0):\n",
    "            negz = -1\n",
    "        return frame.get_rotation_matrix_from_zyx((negz*(np.pi/36),0,0))\n",
    "    elif deg == y:\n",
    "        if(y<0):\n",
    "            negy = -1\n",
    "        return frame.get_rotation_matrix_from_zyx((0,negy*np.pi/36,0))\n",
    "    elif deg == x:\n",
    "        if(x<0):\n",
    "            negx = -1\n",
    "        return frame.get_rotation_matrix_from_zyx((0,0,negz*np.pi/36))\n",
    "    \n",
    "def two_one(scene, cube, center, z,y,x):\n",
    "    mesh_frame = o3d.geometry.TriangleMesh.create_coordinate_frame(size=0.4, origin= -1*(center))\n",
    "    #frame_axis = copy.deepcopy(mesh_frame)\n",
    "    mesh_frame.paint_uniform_color([1,0,0])\n",
    "    vis = o3d.visualization.Visualizer()\n",
    "    vis.create_window()\n",
    "    vis.add_geometry(scene)\n",
    "    vis.add_geometry(cube)\n",
    "    vis.add_geometry(mesh_frame)\n",
    "    #vis.add_geometry(frame_axis)\n",
    "    deg = np.array([z,y,x])\n",
    "    for deg in deg:\n",
    "        inner_deg = np.abs(deg)//5\n",
    "    \n",
    "        for i in range(inner_deg):\n",
    "            R = get_rotation_matrix(deg, cube,z,y,x)\n",
    "            cube.rotate(R, center)\n",
    "            #frame_axis.rotate(R, center)\n",
    "            vis.update_geometry(cube)\n",
    "            #vis.update_geometry(frame_axis)\n",
    "            vis.poll_events()\n",
    "            vis.update_renderer()\n",
    "            time.sleep(0.2)\n",
    "\n",
    "    vis.destroy_window()\n",
    "    \n",
    "\n",
    "##############################################################################\n",
    "#                             END OF YOUR CODE                               #\n",
    "##############################################################################\n"
   ]
  },
  {
   "cell_type": "markdown",
   "metadata": {},
   "source": [
    "### Question for 2.1\n",
    "\n",
    "- In the next code cell, call the function `two_one` here showing the animation described in section 2.1."
   ]
  },
  {
   "cell_type": "code",
   "execution_count": 37,
   "metadata": {},
   "outputs": [],
   "source": [
    "#uncomment the following and add input parameters if any\n",
    "center = get_cube()\n",
    "two_one(scene = o3d.io.read_point_cloud(\"scene.pcd\"),\n",
    "        cube = o3d.io.read_point_cloud(\"cube.pcd\"), center = center, z=30, y=90, x=45)"
   ]
  },
  {
   "cell_type": "markdown",
   "metadata": {},
   "source": [
    "## 2.2 Euler angle & Gimbal lock\n",
    "\n",
    "Code the following yourself from scratch (Refer Craig book - Section: $Z-Y-X$ Euler angles - same conventions/notations followed).\n",
    "\n",
    "- Case 1: Given the rotation matrix $M_{given}$ below, extract Euler angles $\\alpha , \\beta ,\\gamma$. Convert it back to the rotation matrix $M_{recovered}$ from Euler angles.\n",
    "\n",
    "    $$M(\\alpha , \\beta ,\\gamma)=\\left[\\begin{array}{rrr}0.26200263 & -0.19674724 & 0.944799 \\\\0.21984631 & 0.96542533 & 0.14007684 \\\\\n",
    "    -0.93969262 & 0.17101007 & 0.29619813\\end{array}\\right] $$\n",
    "\n",
    "    After coding it from scratch, check your calculations using `scipy.spatial.transform.Rotation`. (Mandatory)\n",
    "\n",
    "- Case 2: Given the rotation matrix $N_{given}$, extract Euler angles, and convert back $N_{recovered}$.\n",
    "\n",
    "    $$N(\\alpha , \\beta ,\\gamma)=\\left[\\begin{array}{rrr}0 & -0.173648178 &  0.984807753 \\\\0 & 0.984807753 & 0.173648178 \\\\\n",
    "    -1 & 0 & 0\\end{array}\\right] $$\n",
    "\n",
    "    Again use `scipy` and check its output. If `scipy` is showing any warnings on any of the above cases, explain it in \"**Questions for 2.2**\" (last question). Write code in the next cell.\n",
    "    \n",
    "- (Optional) Case 3: Do the above two for quaternion using scipy functions, i.e. given the rotation matrix, extract quaternion and convert back."
   ]
  },
  {
   "cell_type": "code",
   "execution_count": 38,
   "metadata": {
    "deletable": false,
    "editable": false
   },
   "outputs": [],
   "source": [
    "##############################################################################\n",
    "# DON'T EDIT\n",
    "M_given =  np.array([[0.26200263, -0.19674724, 0.944799],\n",
    "                     [0.21984631, 0.96542533, 0.14007684],\n",
    "                     [-0.93969262, 0.17101007, 0.29619813]])\n",
    "\n",
    "N_given = np.array([[0,-0.173648178,0.984807753],\n",
    "                    [0, 0.984807753, 0.173648178],\n",
    "                    [-1, 0, 0]])"
   ]
  },
  {
   "cell_type": "code",
   "execution_count": 39,
   "metadata": {},
   "outputs": [
    {
     "name": "stdout",
     "output_type": "stream",
     "text": [
      "Euler angles for M_given 39.99999997427293 70.00000000765922 29.99999998709331\n",
      "Recovering rotation matrix for M_given [[ 0.26200263 -0.19674724  0.944799  ]\n",
      " [ 0.21984631  0.96542534  0.14007684]\n",
      " [-0.93969262  0.17101007  0.29619813]]\n",
      "\n",
      " Euler angles for M_given using scipy\n",
      "\n",
      " Recovering rotation matrix for M_given using scipy [[ 0.26200263 -0.19674724  0.944799  ]\n",
      " [ 0.21984631  0.96542534  0.14007684]\n",
      " [-0.93969262  0.17101007  0.29619813]]\n",
      "\n",
      " Quaternion for M_given from scipy [0.00973605 0.59313249 0.13112033 0.79429624]\n",
      "#################################################################\n",
      "\n",
      " Euler angles for N_given 0.0 90.0 0.0\n",
      "\n",
      " If beta = 90.0°, then a solution can be calculated to be beta = 90.0°, alpha = 0.0,gamma = Atan2(r12 , r22)\n",
      "Hence keepng alpha=0 , beta= 90.0 recalculate Euler Angles from N_given as:  0.0 90.0 -10.000000018915026\n",
      "Recovering rotation matrix for M_given [[ 6.123234e-17  0.000000e+00  1.000000e+00]\n",
      " [ 0.000000e+00  1.000000e+00  0.000000e+00]\n",
      " [-1.000000e+00  0.000000e+00  6.123234e-17]]\n",
      "\n",
      " Recovering rotation matrix again for N_given keepng alpha=0: [[ 6.12323400e-17 -1.73648178e-01  9.84807753e-01]\n",
      " [ 0.00000000e+00  9.84807753e-01  1.73648178e-01]\n",
      " [-1.00000000e+00 -1.06328843e-17  6.03020831e-17]]\n",
      "\n",
      " Euler angles for N_given using scipy\n",
      "\n",
      " Recovering rotation matrix for N_given using scipy [[ 0.         -0.17364818  0.98480775]\n",
      " [ 0.          0.98480775  0.17364818]\n",
      " [-1.          0.          0.        ]]\n",
      "\n",
      " Quaternion for N_given from scipy [-0.06162842  0.70441603  0.06162842  0.70441603]\n"
     ]
    }
   ],
   "source": [
    "# TODO: Do tasks described in 2.2                                            #\n",
    "##############################################################################\n",
    "# Replace \"pass\" statement with your code\n",
    "\n",
    "# To check if M is rotational matrix. M is a rotational matrix if and only if M is orthogonal,  MMT=MTM=I, and det(M)=1.\n",
    "def rotMatTest(Rot):\n",
    "    # square matrix test\n",
    "    if Rot.ndim != 2 or Rot.shape[0] != Rot.shape[1]:\n",
    "        return False\n",
    "    Rot_trans = np.transpose(Rot)\n",
    "    I = np.identity(Rot.shape[0], Rot.dtype)\n",
    "    is_identity = np.allclose(Rot.dot(Rot_trans), I)\n",
    "    is_one = np.allclose(np.linalg.det(Rot), 1)\n",
    "    a = is_identity and is_one\n",
    "    return a\n",
    "\n",
    "#Retrieve euler angles from given rotation matrix\n",
    "def eulerFromRotation(Rot):\n",
    "    if rotMatTest(Rot)== True:\n",
    "        beta = np.arctan2(-Rot[2,0] , np.sqrt(np.square(Rot[0,0]) + np.square(Rot[1,0])) )\n",
    "        alpha = np.arctan2(Rot[1,0]/math.cos(beta), Rot[0,0]/math.cos(beta))\n",
    "        gamma = np.arctan2(Rot[2,1]/math.cos(beta) , Rot[2,2]/math.cos(beta))\n",
    "        return alpha , beta , gamma\n",
    "    \n",
    "#Final rotation matrix from individual rotation matrices    \n",
    "def rotationFromEuler(Rx, Ry,Rz):\n",
    "    R1 = np.dot(Ry,Rx)\n",
    "    Rzyx = np.dot(Rz , R1)\n",
    "    return Rzyx  \n",
    "\n",
    "#Using formula from eq 2.71 from Craig to get combined rotation matrix directly for ZYX using alpha beta gamma\n",
    "def rotFromEuler_combine(a,b,c):\n",
    "    Rotfromeuler_combined = np.array([[math.cos(a)*math.cos(b) , math.cos(a)*math.sin(b)*math.sin(c) - math.sin(a)*math.cos(c) , math.cos(a)*math.sin(b)*math.cos(c) + math.sin(a)*math.sin(c) ],\n",
    "                              [math.sin(a)*math.cos(b) , math.sin(a)*math.sin(b)*math.sin(c) + math.cos(a)*math.cos(c) ,  math.sin(a)*math.sin(b)*math.cos(c) - math.cos(a)*math.sin(c)],\n",
    "                              [-math.sin(b) , math.cos(b)*math.sin(c) ,  math.cos(b)*math.cos(c) ]])\n",
    "    return Rotfromeuler_combined\n",
    "\n",
    "#Individual rotation matrices Rz , Ry ,Rz from equation 2.70 from Craig book using alpha,beta ,gamma angles\n",
    "def rotationMatrices(a,b,c):\n",
    "    Rx = np.array([[1, 0, 0] , [0, math.cos(c) , -math.sin(c)],[0, math.sin(c) , math.cos(c)]])\n",
    "    Ry = np.array([[math.cos(b) , 0 , math.sin(b)], [0 ,1,0] ,[-math.sin(b), 0 , math.cos(b)]])\n",
    "    Rz = np.array([[math.cos(a) , -math.sin(a) , 0],[math.sin(a), math.cos(a),0],[0,0,1]])\n",
    "    return Rx , Ry ,Rz\n",
    "\n",
    "#Computing alpha , beta , gamma from given rotation matrix(original)\n",
    "a , b, c = eulerFromRotation(M_given)\n",
    "print('Euler angles for M_given', a*180/np.pi,b*180/np.pi,c*180/np.pi)\n",
    "\n",
    "Rx ,Ry ,Rz = rotationMatrices(a,b,c)\n",
    "Rotfromeuler = rotationFromEuler(Rx, Ry , Rz)\n",
    "print('Recovering rotation matrix for M_given' ,Rotfromeuler)\n",
    "\n",
    "M_recovered = Rotfromeuler\n",
    "\n",
    "#Testing rotation matrix recovery using given formula in Craig book\n",
    "rot_euler_combined = rotFromEuler_combine(a,b,c)\n",
    "#rot_euler_combined\n",
    "\n",
    "#Computing euler angles and recovering back rotation matrix using scipy\n",
    "r1 = R.from_matrix([[0.26200263, -0.19674724, 0.944799],\n",
    "[0.21984631, 0.96542533, 0.14007684],\n",
    "[-0.93969262, 0.17101007, 0.29619813]])\n",
    "\n",
    "print('\\n' ,'Euler angles for M_given using scipy')\n",
    "r1.as_euler('ZYX', degrees=True)\n",
    "\n",
    "r11 = R.from_euler('zyx', [36.90420977,  70.87376744, -25.31021748], degrees=True)\n",
    "print('\\n' ,'Recovering rotation matrix for M_given using scipy' , r11.as_matrix())\n",
    "\n",
    "#with given rotation matrix, extracting quaternion and converting back.\n",
    "quat1 = r1.as_quat()\n",
    "print('\\n', 'Quaternion for M_given from scipy' , quat1)\n",
    "\n",
    "print('#################################################################')\n",
    "a1 , b1, c1 = eulerFromRotation(N_given)\n",
    "print('\\n' ,'Euler angles for N_given', a1*180/np.pi, b1*180/np.pi, c1*180/np.pi)\n",
    "\n",
    "print('\\n', 'If beta = 90.0°, then a solution can be calculated to be beta = 90.0°, alpha = 0.0,gamma = Atan2(r12 , r22)')\n",
    "\n",
    "c1_new = np.arctan2(N_given[0,1], N_given[1,1])\n",
    "print('Hence keepng alpha=0 , beta= 90.0 recalculate Euler Angles from N_given as: ', a1*180/np.pi, b1*180/np.pi,c1_new*180/np.pi)\n",
    "\n",
    "Rx1 ,Ry1 ,Rz1 = rotationMatrices(a1,b1,c1)\n",
    "Rotfromeuler1 = rotationFromEuler(Rx1, Ry1 , Rz1)\n",
    "print('Recovering rotation matrix for M_given' ,Rotfromeuler1)\n",
    "\n",
    "N_recovered = Rotfromeuler1\n",
    "\n",
    "Rx1 ,Ry1 ,Rz11 = rotationMatrices(a1,b1,c1_new)\n",
    "Rotfromeuler11 = rotationFromEuler(Rx1, Ry1 , Rz11)\n",
    "print('\\n', 'Recovering rotation matrix again for N_given keepng alpha=0:' ,Rotfromeuler11)\n",
    "\n",
    "#using scipy to get euler angles and recovering rotation matrix back\n",
    "r2  = R.from_matrix([[0 , -0.173648178 , 0.984807753],\n",
    "                [0, 0.984807753, 0.173648178],\n",
    "                [-1 , 0, 0]])\n",
    "print('\\n' ,'Euler angles for N_given using scipy')\n",
    "r2.as_euler('ZYX', degrees=True)\n",
    "\n",
    "r22 = R.from_euler('zyx', [ 90.        ,  79.99999998, -90.  ], degrees=True)\n",
    "print('\\n' ,'Recovering rotation matrix for N_given using scipy' , r22.as_matrix())\n",
    "\n",
    "#with given rotation matrix, extracting quaternion and converting back.\n",
    "quat2 = r2.as_quat()\n",
    "print('\\n', 'Quaternion for N_given from scipy' ,quat2)\n",
    "##############################################################################\n",
    "#                             END OF YOUR CODE                               #\n",
    "##############################################################################"
   ]
  },
  {
   "cell_type": "markdown",
   "metadata": {},
   "source": [
    "## Questions for 2.2\n",
    "- Have you used `np.arctan` or an any equivalent `atan` function above? Why or why not?   \n",
    "    * Ans: Yes we used np.arctan2(x1, x2). With arctan2 , quadrants are chosen correctly. arctan2(x1, x2) computes tan^-1(x1/x2).It uses the signs of both x1 and x2 to identify correct among four quadrants in which the resulting angle lies. arctan(x1,x2) doesnot makes this distinction."
   ]
  },
  {
   "cell_type": "markdown",
   "metadata": {},
   "source": [
    "### For Case 1 above,\n",
    "- What Euler angles  $\\alpha , \\beta ,\\gamma$ did you get? Replace `my_array_case1` with your array."
   ]
  },
  {
   "cell_type": "code",
   "execution_count": 40,
   "metadata": {},
   "outputs": [
    {
     "name": "stdout",
     "output_type": "stream",
     "text": [
      "My Euler angles for case 1 are[39.99999997 70.00000001 29.99999999]\n"
     ]
    }
   ],
   "source": [
    "# Uncomment and replace my_array_case1 with your array.\n",
    "my_array_case1 = np.array([39.99999997427293 , 70.00000000765922 , 29.99999998709331])\n",
    "print(\"My Euler angles for case 1 are\" + str(my_array_case1))"
   ]
  },
  {
   "cell_type": "markdown",
   "metadata": {},
   "source": [
    "  - Were you able to recover back your rotation matrix when you converted it from Euler angles? Why/why not? Replace `M_given` and `M_recovered` with your matrices below and explain \"why/why not\" after this code snippet.\n",
    "  \n",
    "  -Ans:We are able to recover back rotation matrix with M_given."
   ]
  },
  {
   "cell_type": "code",
   "execution_count": 41,
   "metadata": {},
   "outputs": [
    {
     "name": "stdout",
     "output_type": "stream",
     "text": [
      "For case 1, it is True I could recover the original matrix.\n"
     ]
    }
   ],
   "source": [
    "# Uncomment and Replace M_given and M_recovered with your matrices below.\n",
    "error = np.linalg.norm(logm(M_given @ M_recovered.T))\n",
    "print(\"For case 1, it is \" + str(error<0.0001) + \" I could recover the original matrix.\")"
   ]
  },
  {
   "cell_type": "markdown",
   "metadata": {},
   "source": [
    "- Why/why not? Based on your observations here, is there any problem with Euler angle representation for Case 1? If yes, what is it?\n",
    "\n",
    "    - Ans:  There is unique rotation with given set of euler angles,hence we could recover rotation matrix. \n",
    "   Euler angles computed using our code is different from those computed using scipy library.\n",
    "   "
   ]
  },
  {
   "cell_type": "markdown",
   "metadata": {},
   "source": [
    "### Repeat the above for Case 2."
   ]
  },
  {
   "cell_type": "code",
   "execution_count": 42,
   "metadata": {},
   "outputs": [
    {
     "name": "stdout",
     "output_type": "stream",
     "text": [
      "My Euler angles for case 2 are[ 0. 90.  0.]\n",
      "For case 2, it is False I could recover the original matrix.\n"
     ]
    }
   ],
   "source": [
    "# Uncomment and Replace N_given and N_recovered with your matrices below.\n",
    "my_array_case2 = np.array([0.0 , 90.0 , 0.0])\n",
    "print(\"My Euler angles for case 2 are\" + str(my_array_case2))\n",
    "error = np.linalg.norm(logm(N_given @ N_recovered.T))\n",
    "print(\"For case 2, it is \" + str(error<0.0001) + \" I could recover the original matrix.\")"
   ]
  },
  {
   "cell_type": "markdown",
   "metadata": {},
   "source": [
    "* Why/why not? Based on your observations here, is there any problem with Euler angle representation for Case 2? If yes, what is it?\n",
    "\n",
    "    * Ans: We are not able to recover back rotation matrix since beta = 90 and solution degenerates. Problem which occurs with euler angle representation is we get both alpha = 0 , gamma = 0\n",
    "    \n",
    "    If beta = ±90.0° (so that cos(beta) = 0), the solution of euler angles degenerates. In that case choose alpha = 0 If beta = 90.0° , gamma = Atan2(r12 , r22) If beta = -90.0° , gamma = -Atan2(r12 , r22)\n",
    "    \n",
    "    \n",
    "* Explain any more problems with Euler angle representation. Explain what you understand by Gimbal lock (concisely in your own words). You could revisit this question in the section 2.4.\n",
    "    * Ans: Euler angles can have the problem of gimbal lock . With gimbal lock euler angle representation loses a degree of freedom . In such case it is not possible to determine the first and third angles uniquely.One of the rotational degrees of freedom of the rotating object is removed.Two of the rotational axes get aligned. Euler angle representation for a rotation matrix is not unique, there can be infinite solutions.\n",
    "\n",
    "         Euler angles can be obtained as R3 -> SO3 . If the rank is less than 3 , we get degenerate manifolds for many to one function.In such case gimbal lock occurs"
   ]
  },
  {
   "cell_type": "markdown",
   "metadata": {},
   "source": [
    "- When you used `scipy.spatial.transform.Rotation` for the above 2 cases,\n",
    "    - Have you used `zyx` above in `r.as_euler('')` argument? Why or why not? Explain the difference between extrinsic and instrinsic rotations with equivalent technical names from Craig book?\n",
    "        * Ans: *With scipy we used 'zyx' above in r.as_euler('') as argument. We do not see any warnings. Extrinsic rotations apply to axis in world coordinate system, i.e rotated coordinate frame is relative to (fixed) world coordinate system. Intrinsic rotations apply to axis in rotated coordinate system, i.e rotation is always based on the rotating coordinate frame.*\n",
    "    - Has `scipy` shown any warnings on any of the above cases? If yes, explain it.\n",
    "        * Ans: *scipy has not shown any warnings for case1 or case2.*\n",
    "    - (Optional) For Case 3 above (quaternion) which you did using scipy, did you observe any problem with quaternion? Depending on your observations, which is better? Quaternion or Euler angles? And why?\n",
    "         * Ans: *Quaternions looks better in terms of representation, doesnot have ambiguities of euler angles            and avoids issues of numerical precision and normalization.*\n"
   ]
  },
  {
   "cell_type": "markdown",
   "metadata": {},
   "source": [
    "## 2.3 Rotation matrix as an Operator\n",
    "This question will help you in your understanding of [Rotator-transform (Vector-frame) equivalence](https://www.notion.so/saishubodh/Lecture-2-Transformations-11d69d8cef2d4cd195a98fa7d33224e1#f90ece4f5e374743bfed47e46a83ecfe).\n",
    "\n",
    "![image.png](./misc/xyz-frame.png)\n",
    "Consider the frame $XYZ$ in the above image. Say you have a vector $x_1=[0,\\sqrt{3},0]$. Now you want to rotate it such that you end up at $x_2=[1,1,1]$ through a sequence of Euler angle rotations. Your goal is to find out those $\\alpha, \\beta \\: \\& \\: \\gamma$ ($ZYX$). We will follow this order whenever we refer to it below.\n",
    "\n",
    "First, properly understand the so-called \"Rotator-transform equivalence\" to figure out what are the terms of rotation matrix. Then, put the math on paper and you will end up with a set of non-linear equations. Write the set of non-linear equations in LaTeX here:"
   ]
  },
  {
   "cell_type": "markdown",
   "metadata": {},
   "source": [
    "$$ \\textbf{Ans:}$$\n",
    "$$\\left[\\begin{array}{rr}\\cos(\\alpha)\\cos(\\beta) & \\cos(\\alpha)\\sin(\\beta)\\sin(\\gamma)-\\sin(\\alpha)\\cos(\\gamma) & \\cos(\\alpha)\\sin(\\beta)\\cos(\\gamma) + \\sin(\\alpha)\\sin(\\gamma)\\\\ \\sin(\\alpha)\\cos(\\beta) & \\sin(\\alpha)\\sin(\\beta)\\sin(\\gamma) + \\cos(\\alpha)\\cos(\\gamma) & \\sin(\\alpha)\\sin(\\beta)\\cos(\\gamma) - \\cos(\\alpha)\\sin(\\gamma)\\\\ -\\sin(\\beta) & \\cos(\\beta)\\sin(\\gamma) & \\cos(\\beta)\\cos(\\gamma) \\end{array}\\right].\\left[\\begin{array}{rr} &x1& \\\\ &y1& \\\\ &z1& \\end{array}\\right] = \\left[\\begin{array}{rr} &x2& \\\\ &y2& \\\\ &z2& \\end{array}\\right]$$ \n",
    "The equations from  above matrix formation is written as,\n",
    "$$\\begin{align} (\\cos(\\alpha)\\cos(\\beta))*x1 + (\\cos(\\alpha)\\sin(\\beta)\\sin(\\gamma) - \\sin(\\alpha)\\cos(\\gamma))*y1 +(\\cos(\\alpha)\\sin(\\beta)\\cos(\\gamma) + \\sin(\\alpha)\\sin(\\gamma))*z1  = x2 \\\\\n",
    "(\\sin(\\alpha)\\cos(\\beta))*x1(\\sin(\\alpha)\\sin(\\beta)\\sin(\\gamma) + \\cos(\\alpha)\\cos(\\gamma))*y1 (\\sin(\\alpha)\\sin(\\beta)\\cos(\\gamma) -\\cos(\\alpha)\\sin(\\gamma))*z1 = y2 \\\\\n",
    "(-\\sin(\\beta))*x1 + (\\cos(\\beta)\\sin(\\gamma))*y1 (\\cos(\\beta)\\cos(\\gamma))*z1 = z2\\\\\n",
    "\\end{align} $$"
   ]
  },
  {
   "cell_type": "markdown",
   "metadata": {},
   "source": [
    "Solve these equations using `fsolve` from `scipy.optimize` as follows: (Come back and answer the following questions after coding it in the next block)\n",
    "- `case1`: First, solve it with an initialization of (0,0,0). Check if your answer is correct using `np.isclose`.\n",
    "    * What Euler angles did you get? Answer in $\\alpha, \\beta \\: \\& \\: \\gamma$ format:\n",
    "        * Ans: *$a_1, b_1, c_1$ = -18.85402682, -328.06938543, 42.86589315.  Angles are obtained using 'fsolve' solver for finding roots( $\\alpha, \\beta \\: \\& \\: \\gamma$ ) from the above equations.* \n",
    "- `case2`: Now, forget about the solver for a moment: Can you visualize and think of sequence of rotations one by one to reach the final position (which is different than previous set of rotations)? Now, validate your answer by giving (your answer $\\pm 5$) as initialization.\n",
    "    * What Euler angles did you get? Answer in $\\alpha, \\beta \\: \\& \\: \\gamma$ format:\n",
    "        * Ans: *$a_2, b_2, c_2$ = 22.2817004, -127.47313237, -71.6191711*"
   ]
  },
  {
   "cell_type": "code",
   "execution_count": 43,
   "metadata": {
    "deletable": false,
    "editable": false
   },
   "outputs": [],
   "source": [
    "##############################################################################\n",
    "# DON'T EDIT\n",
    "x_1 = np.array([0,np.sqrt(3),0])\n",
    "x_2 = np.array([1,1,1])"
   ]
  },
  {
   "cell_type": "code",
   "execution_count": 44,
   "metadata": {},
   "outputs": [
    {
     "name": "stdout",
     "output_type": "stream",
     "text": [
      "Case 1 : (in zyx format) :  [ -18.85402682 -328.06938543   42.86589315]\n",
      "Case 2 : (in zyx format) :  [  22.2817004  -127.47313237  -71.6191711 ]\n"
     ]
    }
   ],
   "source": [
    "##############################################################################\n",
    "# TODO: Do tasks described in 2.3                                            #\n",
    "##############################################################################\n",
    "# Replace \"pass\" statement with your code\n",
    "# Function to solve optimization problem for zyx angles\n",
    "def clip_angle(vector):\n",
    "    for i,v in enumerate(vector):\n",
    "        if(np.abs(v)>=360):\n",
    "            rem = v/360\n",
    "            cycle = np.int(rem) * 360\n",
    "            diff = v - cycle\n",
    "            vector[i] = diff\n",
    "    return vector\n",
    "    \n",
    "    \n",
    "def func(angles,x1, x2):\n",
    "    f = [0,0,0]\n",
    "    alpha = angles[0]\n",
    "    beta = angles[1]\n",
    "    gamma = angles[2]\n",
    "    \n",
    "    f[0] = ((x1[0]*np.cos(alpha)*np.cos(beta)) + (x1[1] * (np.cos(alpha)*np.sin(beta)*np.sin(gamma) - np.sin(alpha)*np.cos(gamma))) + (x1[2]*(np.cos(alpha)*np.sin(beta)*np.cos(gamma) + np.sin(alpha)+np.sin(gamma)))) - x2[0]\n",
    "    f[1] = ((x1[0]*np.sin(alpha)*np.cos(beta)) + (x1[1] * (np.sin(alpha)*np.sin(beta)*np.sin(gamma) + np.cos(alpha)*np.cos(gamma))) + (x1[2]*(np.sin(alpha)*np.sin(beta)*np.cos(gamma) - np.cos(alpha)+np.sin(gamma)))) - x2[1]\n",
    "    f[2] = ((-1*x1[0]*np.sin(beta)) + (x1[1] * np.cos(beta)*np.sin(gamma) ) + (x1[2]*np.cos(beta)*np.cos(gamma))) - x2[2]\n",
    "    \n",
    "    return f\n",
    "\n",
    "# For Case1\n",
    "root_case1 = fsolve(func,[0,0,0] ,args = (x_1, x_2))\n",
    "a1, b1, c1 = root_case1[0], root_case1[1], root_case1[2]\n",
    "root_case1 = clip_angle(root_case1*180/np.pi)\n",
    "print(\"Case 1 : (in zyx format) : \", root_case1)\n",
    "\n",
    "# For Case2\n",
    "root_case2 = fsolve(func,[(np.pi/4)+5,(-np.pi/4)+5,0] ,args = (x_1, x_2))\n",
    "a2, b2, c2 = root_case2[0], root_case2[1], root_case2[2]\n",
    "root_case2 = clip_angle(root_case2*180/np.pi)\n",
    "print(\"Case 2 : (in zyx format) : \", root_case2)\n",
    "\n",
    "##############################################################################\n",
    "#                             END OF YOUR CODE                               #\n",
    "##############################################################################"
   ]
  },
  {
   "cell_type": "code",
   "execution_count": 45,
   "metadata": {},
   "outputs": [],
   "source": [
    "# From Section 2.2, use the function which takes Euler angles and gives Rotation matrix as output.\n",
    "# Uncomment and replace `r_mat` with the name of the function. (Do NOT edit anything else)\n",
    "\n",
    "x_2_obtained_case1 = rotFromEuler_combine(a1,b1,c1) @ x_1.T #TODO: replace r_mat\n",
    "x_2_obtained_case2 = rotFromEuler_combine(a2,b2,c2) @ x_1.T #TODO: replace r_mat\n",
    "test = True #TODO: Set this as True"
   ]
  },
  {
   "cell_type": "code",
   "execution_count": 46,
   "metadata": {},
   "outputs": [
    {
     "name": "stdout",
     "output_type": "stream",
     "text": [
      "For case 1, it is True that I could end up at (1,1,1) after rotation.\n",
      "For case 2, it is True that I could end up at (1,1,1) after rotation.\n"
     ]
    }
   ],
   "source": [
    "# DON'T EDIT\n",
    "if test == True:\n",
    "    case1_test = np.isclose(x_2_obtained_case1,  np.array([1.0,1.0,1.0]))\n",
    "    case2_test = np.isclose(x_2_obtained_case2,  np.array([1.0,1.0,1.0]))\n",
    "    print(\"For case 1, it is \" + str(bool(case1_test[0] and case1_test[1] and case1_test[2])) + \n",
    "          \" that I could end up at (1,1,1) after rotation.\")\n",
    "    print(\"For case 2, it is \" + str(bool(case2_test[0] and case2_test[1] and case2_test[2])) + \n",
    "          \" that I could end up at (1,1,1) after rotation.\")"
   ]
  },
  {
   "cell_type": "markdown",
   "metadata": {},
   "source": [
    "## 2.4 Gimbal Lock visualization (Optional)\n",
    "\n",
    "A nice visualization video for gimbal lock is [this](https://www.youtube.com/watch?v=zc8b2Jo7mno). You are about to animate a similar visualization demonstrating gimbal lock 😃.\n",
    "\n",
    "![image.png](./misc/xyz-frame.png)\n",
    "\n",
    "- Write a function `two_four` for the visualization of gimbal lock. Follow the below steps to get the intuition going. Use Open3D for the following.\n",
    "    - Say our frame's initial position is as the above image. Now the final goal at the end of rotation is to get the $Y$ axis pointing in the direction of the vector $(x,y,z)$ that you currently see in the above image. This point is fixed in space and is NOT moving as we rotate our axis.\n",
    "    - For creating that point, you could use a small sphere using `open3d.geometry.create_mesh_sphere`. You already know how to create an axis by now.\n",
    "    - Following our $ZYX$ convention, first rotate your frame about $Z$ axis by an angle, say $-35^{\\circ}$. Then rotate about $Y$ axis by an angle ${\\beta}$ and then about $X$ by say $55^{\\circ}$.\n",
    "        - Are there any specific angle(s) $\\beta$ using which you will **never** reach our point $(x,y,z)$ ?\n",
    "            - Clue: We are specifically talking about gimbal lock here and notice the word \"never\".\n",
    "        - Under this (these) specific angle(s) of $\\beta$ & different combinations of $\\alpha$ and $\\gamma$, make an animation and clearly show why your $Y$ axis is unable to align in the direction of that vector $(x,y,z)$ using the animation.\n",
    "\n",
    "            If you are unsure to simulate the animation, you could do it as follows:\n",
    "\n",
    "            - You could first fix some $\\alpha$, say $-35^{\\circ}$ & an above value of $\\beta$, you can now vary $\\gamma$ from $-180^{\\circ} \\text{ to }180^{\\circ}$ to simulate the animation.\n",
    "            - Now fix another $\\alpha$, say $45^{\\circ}$ and repeat the above process. So that's 2 specific values of $\\alpha$.\n",
    "            - Show this for all angles of $\\beta$ if there are more than 1.\n",
    "            - Therefore, when the code is run, there should be a minimum of (2 $\\times$ (number of values of $\\beta$)) animations. 2 for values of $\\alpha$, you could show it for even more if you wish to."
   ]
  },
  {
   "cell_type": "code",
   "execution_count": 47,
   "metadata": {},
   "outputs": [],
   "source": [
    "##############################################################################\n",
    "# TODO: Do tasks described in 2.4                                            #\n",
    "##############################################################################\n",
    "# Replace \"pass\" statement with your code\n",
    "def get_frame_and_sphere():\n",
    "    mesh_frame = o3d.geometry.TriangleMesh.create_coordinate_frame(size=1.5)\n",
    "    mesh_sphere = o3d.geometry.TriangleMesh.create_sphere(radius=0.04)\n",
    "    mesh_sphere.compute_vertex_normals()\n",
    "    mesh_sphere.translate([1, 1, 1])\n",
    "    mesh_sphere.paint_uniform_color([0, 0, 0])\n",
    "    return mesh_frame,mesh_sphere\n",
    "\n",
    "def get_rotation_matrix_(deg, pcd, z,y,x):\n",
    "    negx, negy, negz = 1,1,1\n",
    "    # Rotation about z axis\n",
    "    if deg == x:\n",
    "        if(x < 0):\n",
    "            negx = -1\n",
    "        return rotFromEuler_combine(x*(np.pi/180),0,0)\n",
    "    # Rotation about y axis\n",
    "    elif deg == z:\n",
    "        if(z < 0):\n",
    "            negz = -1\n",
    "        return rotFromEuler_combine(0,negz*(np.pi/36),0)\n",
    "    # Rotation about x axis\n",
    "    elif deg == y:\n",
    "        if(y < 0):\n",
    "            negy = -1\n",
    "        return rotFromEuler_combine(0,0,negy*(np.pi/36))\n",
    "    \n",
    "\n",
    "def two_four(sphere, frame, center, z, y, x=0):\n",
    "    mesh_frame = o3d.geometry.TriangleMesh.create_coordinate_frame(size=1.5, origin= (center))\n",
    "    vis = o3d.visualization.Visualizer()\n",
    "    vis.create_window()\n",
    "    vis.add_geometry(sphere)\n",
    "    vis.add_geometry(frame)\n",
    "    vis.add_geometry(mesh_frame)\n",
    "    deg = np.array([z,y])\n",
    "    print(\"Z = \"+str(z)+\", Y = \"+str(y))\n",
    "    # Rotation for z and y axis.\n",
    "    for c,deg in enumerate(deg):\n",
    "        inner_deg = np.abs(deg)//5\n",
    "        for i in range(inner_deg):\n",
    "            R = get_rotation_matrix_(deg, frame, z,y,x)\n",
    "            frame.rotate(R, center)\n",
    "            vis.update_geometry(frame)\n",
    "            vis.poll_events()\n",
    "            vis.update_renderer()\n",
    "            time.sleep(0.2)\n",
    "    \n",
    "    # Rotation for x axis.\n",
    "    for x in range(-180,180,5):\n",
    "        R = get_rotation_matrix_(deg, frame, z,y,x)\n",
    "        # If gimbal lock is broken then exit the loop.\n",
    "        if(np.all(np.abs(R[:,2]) == [0,0,1]) and np.all(np.abs(R[2,:]) == [0,0,1])):\n",
    "            print(\"Gimbal Lock was detected...\")\n",
    "            break\n",
    "            \n",
    "        else:\n",
    "            frame.rotate(R, center)\n",
    "            frame.paint_uniform_color([1,1,0])\n",
    "            vis.update_geometry(frame)\n",
    "            vis.poll_events()\n",
    "            vis.update_renderer()\n",
    "            time.sleep(0.2)\n",
    "    \n",
    "    vis.destroy_window()\n",
    "\n",
    "\n",
    "##############################################################################\n",
    "#                             END OF YOUR CODE                               #\n",
    "##############################################################################"
   ]
  },
  {
   "cell_type": "markdown",
   "metadata": {},
   "source": [
    "> VOILA! You have just animated the famous Gimbal lock problem. If you are curious, read about the [Apollo 11](https://en.wikipedia.org/wiki/Gimbal_lock#On_Apollo_11) Gimbal lock incident.\n",
    "\n",
    "### Questions for 2.4 (Optional)\n",
    "\n",
    "- Mention the value(s) of $\\beta$ here: \n",
    "    * Ans: *beta value is 90 degree.*\n",
    "- Now that you understand gimbal lock through visualization, explain it now in matrix form: For the above values of $\\beta$, what does the rotation matrix look like? Can you explain why gimbal lock occurs from the rotation matrix alone? Clue: Use sin/cos formulae. \n",
    "    * Ans: *Yes, when gimbal lock occurs we lose one degree of freedom. So for ZYX euler angle when Y axis(beta) = 90 degree. This is what rotation matrix looks like.*\n",
    "$$ Rzyx = \\begin{bmatrix} \\cos(\\alpha)\\cos(\\beta) & \\cos(\\alpha)\\sin(\\beta)\\sin(\\gamma) - \\sin(\\alpha)\\cos(\\gamma) & \\cos(\\alpha)\\sin(\\beta)\\cos(\\gamma) + \\sin(\\alpha)\\sin(\\gamma)\\\\\\sin(\\alpha)\\cos(\\beta) & \\sin(\\alpha)\\sin(\\beta)\\sin(\\gamma) + \\cos(\\alpha)\\cos(\\gamma) & \\sin(\\alpha)\\sin(\\beta)\\cos(\\gamma) - \\cos(\\alpha)\\sin(\\gamma)\\\\ -\\sin(\\beta) & \\cos(\\beta)\\sin(\\gamma) & \\cos(\\beta)\\cos(\\gamma) \\end{bmatrix} $$\n",
    "$$ Rzyx = \\left[\\begin{array}{rr} 0 & -\\sin(\\alpha-\\gamma) & \\cos(\\alpha-\\gamma)\\\\ 0 & \\cos(\\alpha-\\gamma) & \\sin(\\alpha-\\gamma)\\\\ -1 & 0 & 0 \\end{array}\\right] $$\n",
    "- Call the function `two_four` for the visualization of gimbal lock written above. "
   ]
  },
  {
   "cell_type": "code",
   "execution_count": 48,
   "metadata": {},
   "outputs": [
    {
     "name": "stdout",
     "output_type": "stream",
     "text": [
      "Coordinate frame : green(z-axis), red(y-axis), blue(x-axis)\n",
      "Z = -35, Y = 90\n",
      "Gimbal Lock was detected...\n",
      "Z = 45, Y = 90\n",
      "Gimbal Lock was detected...\n"
     ]
    }
   ],
   "source": [
    "#uncomment the following and add input parameters if any\n",
    "print(\"Coordinate frame : green(z-axis), red(y-axis), blue(x-axis)\")\n",
    "# Case 1\n",
    "frame, sphere = get_frame_and_sphere()\n",
    "two_four(sphere, frame,center = (0,0,0), z=-35, y=90)\n",
    "\n",
    "# Case 2\n",
    "frame, sphere = get_frame_and_sphere()\n",
    "two_four(sphere, frame,center = (0,0,0), z=45, y=90)"
   ]
  }
 ],
 "metadata": {
  "celltoolbar": "Edit Metadata",
  "kernelspec": {
   "display_name": "Python 3",
   "language": "python",
   "name": "python3"
  },
  "language_info": {
   "codemirror_mode": {
    "name": "ipython",
    "version": 3
   },
   "file_extension": ".py",
   "mimetype": "text/x-python",
   "name": "python",
   "nbconvert_exporter": "python",
   "pygments_lexer": "ipython3",
   "version": "3.8.5"
  }
 },
 "nbformat": 4,
 "nbformat_minor": 4
}
